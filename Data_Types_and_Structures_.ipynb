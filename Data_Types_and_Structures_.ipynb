{
  "nbformat": 4,
  "nbformat_minor": 0,
  "metadata": {
    "colab": {
      "provenance": []
    },
    "kernelspec": {
      "name": "python3",
      "display_name": "Python 3"
    },
    "language_info": {
      "name": "python"
    }
  },
  "cells": [
    {
      "cell_type": "code",
      "execution_count": null,
      "metadata": {
        "id": "uCEgmaWqQh-n"
      },
      "outputs": [],
      "source": [
        "# Q1) What are data structures, and why are they important.\n",
        "#Answer) Data structures are specialized formats for organizing, storing, and accessing collections of data. They provide efficient ways to manage\n",
        "#information based on its characteristics and intended use.\n",
        "#Think of them as containers that hold your data and determine how you can interact with it. Different containers are better suited for different types of items.\n",
        "#Choosing the right data structure significantly impacts the efficiency and performance of your program.\n",
        "#Well-chosen data structures can:\n",
        "#Simplify data manipulation (adding, removing, modifying elements)\n",
        "#Optimize searching and sorting operations\n",
        "#Conserve memory usage"
      ]
    },
    {
      "cell_type": "code",
      "source": [
        "#Q2) Explain the difference between mutable and immutable data types with examples.\n",
        "#Answer) Lists are mutable objects however tuples aren't. This means the value written in lists can be accessed and manipulated easily, but\n",
        "#the values in tuples can't be manipulated or accessed through indexing. For example, the aadhar card number, passport number, school admisiion number should not be\n",
        "#changed at all, hence tuples are important, however the height, age, weight of a person, change with time and hence the value changes, thus lists are also important."
      ],
      "metadata": {
        "id": "CNUM6CDgT_5j"
      },
      "execution_count": null,
      "outputs": []
    },
    {
      "cell_type": "code",
      "source": [
        "#Q3)What are the main differences between lists and tuples in Python.\n",
        "#Answer)The main diffrence is that lists are mutable in natur and tuples are immutable in nature."
      ],
      "metadata": {
        "id": "9Ob158CnU7O-"
      },
      "execution_count": null,
      "outputs": []
    },
    {
      "cell_type": "code",
      "source": [
        "#Q4) Describe how dictionaries store data.\n",
        "#Answer) Dictionaries are the fastest data structure of them all. They store data in the form of key value pair.\n",
        "#For example in a phonebook, the phone numbers can be stored, accessed and manipulated easily.\n",
        "phonebook = {\"Dad\":1234 , \"Mom\":456}\n",
        "phonebook[\"Dad\"] # can be accessed easily\n",
        "phonebook = {\"Dad\":1234 , \"Mom\":456 , \"Dad\":780}\n",
        "phonebook[\"Dad\"] #the latest entry overwrites the old entry, therefore can be manipulated easily."
      ],
      "metadata": {
        "colab": {
          "base_uri": "https://localhost:8080/"
        },
        "id": "5rkdYGTtVLL-",
        "outputId": "8c653e77-93a4-45eb-feee-f986862286a7"
      },
      "execution_count": null,
      "outputs": [
        {
          "output_type": "execute_result",
          "data": {
            "text/plain": [
              "780"
            ]
          },
          "metadata": {},
          "execution_count": 6
        }
      ]
    },
    {
      "cell_type": "code",
      "source": [
        "#Q5)Why might you use a set instead of a list in Python.\n",
        "#Answer)Sets and lists are both immutable in nature however sets unordered collection of unique elements, i.e. it only prints\n",
        "#unique values i.e. repeated elements won’t be printed, making the task easier."
      ],
      "metadata": {
        "id": "BodukGV3WW2r"
      },
      "execution_count": null,
      "outputs": []
    },
    {
      "cell_type": "code",
      "source": [
        "#Q6)What is a string in Python, and how is it different from a list.\n",
        "#Answer) String is a data type and contains charecters.Lists are mutable but string's are immutable in nature."
      ],
      "metadata": {
        "id": "i4i07OvqXjyt"
      },
      "execution_count": null,
      "outputs": []
    },
    {
      "cell_type": "code",
      "source": [
        "#Q7)How do tuples ensure data integrity in Python?\n",
        "#Tuples are immuatble in nature and hnece ensire data intergrity."
      ],
      "metadata": {
        "id": "zjMXFQOW2IXH"
      },
      "execution_count": null,
      "outputs": []
    },
    {
      "cell_type": "markdown",
      "source": [
        "Q8) What is a hash table, and how does it relate to dictionaries in Python.Ans)A hash table, also known as a hash map, is a data structure that stores data in an associative manner, allowing for quick retrieval of values based on their associated keys."
      ],
      "metadata": {
        "id": "uUfoy0IEZXDv"
      }
    },
    {
      "cell_type": "markdown",
      "source": [
        "Q9)Can lists contain different data types in Python. Ans) Yes, it can have any form of data i.e. strings, mixed values, numbers, integers,floats, boolean value. It is hetrogenous in nature."
      ],
      "metadata": {
        "id": "K81-OqneZcij"
      }
    },
    {
      "cell_type": "markdown",
      "source": [
        "Q10) Explain why strings are immutable in Python. Ans) It is because strings do not support item assignemnet."
      ],
      "metadata": {
        "id": "QwA-SVUQZjP5"
      }
    },
    {
      "cell_type": "markdown",
      "source": [
        "Q11)What advantages do dictionaries offer over lists for certain tasks. Ans) Dictionaries are the fastest type of data structure, and stores data in the form of key value pair. Talking a phonebook example, a person's number can change with due time, so in dictionary the first value of let's say person1 changes to the latest data entry of the new phone number of person1. Thus the first vlaue can be overwritten by the latest value, but in lists the person1 has two numbers. It does not overwrite the fisrt value, it's still saved in the memory box. In dictionaries the last key value is used.\n"
      ],
      "metadata": {
        "id": "VmmhQHe8ZnSq"
      }
    },
    {
      "cell_type": "markdown",
      "source": [
        "Q12)Describe a scenario where using a tuple would be preferable over a list.\n",
        "Ans) Tuples are immutable in nature, so for example we need to sotre some important document's numbers like the Aadhar card, Passport number etc then tupples are to be chosen over lists because lists are muatble in nature."
      ],
      "metadata": {
        "id": "Bx_lAwi2Zrsp"
      }
    },
    {
      "cell_type": "markdown",
      "source": [
        "Q13) How do sets handle duplicate values in Python. Ans) Ses are unordered collection of unique elements, so they do not print the dupliacte values in the block."
      ],
      "metadata": {
        "id": "0nbQ-7kFZxre"
      }
    },
    {
      "cell_type": "markdown",
      "source": [
        "Q14)How does the “in” keyword work differently for lists and dictionaries.Ans)As mentioned above, the in operation for the dictionary tests on keys. The key of the dictionary is a unique value as well as the set, and the execution time is about the same as for sets. On the other hand, dictionary values can be duplicated like a list."
      ],
      "metadata": {
        "id": "FpnU-PHaZ064"
      }
    },
    {
      "cell_type": "markdown",
      "source": [
        "Q15)Can you modify the elements of a tuple? Explain why or why not. Ans) No you cannot, tuples are immutable in nature."
      ],
      "metadata": {
        "id": "XgdBE28vZ49S"
      }
    },
    {
      "cell_type": "markdown",
      "source": [
        "Q16)What is a nested dictionary, and give an example of its use case."
      ],
      "metadata": {
        "id": "e9KZCSE_Z8Fe"
      }
    },
    {
      "cell_type": "markdown",
      "source": [
        "Q17) Describe the time complexity of accessing elements in a dictionary."
      ],
      "metadata": {
        "id": "7Cck7MGfZ_0P"
      }
    },
    {
      "cell_type": "markdown",
      "source": [
        "Q18)In what situations are lists preferred over dictionaries. Ans) For quick data look-ups, configurations, or caches, favor dictionaries. For ordered collections and sequence operations, such as maintaining a stack or queue, lists are more suitable."
      ],
      "metadata": {
        "id": "4RTwVasPaDd6"
      }
    },
    {
      "cell_type": "markdown",
      "source": [
        "Q19) Why are dictionaries considered unordered, and how does that affect data retrieval. Ans) Dictionary is a data structure which is a important value structure, optimized for fast storage and recovery based on key. In python, dictionaries are un-ordered because Python dictionaries are not intended to be in order, as simple as that."
      ],
      "metadata": {
        "id": "fGKqkMl6aISt"
      }
    },
    {
      "cell_type": "markdown",
      "source": [
        "Q20)Explain the difference between a list and a dictionary in terms of data retrieval.Ans)Lists retrieve elements based on their numerical index, while dictionaries retrieve elements based on their unique keys. Lists are ordered collections, and dictionaries are unordered collections of key-value pairs."
      ],
      "metadata": {
        "id": "aUi2_DFHaLZ5"
      }
    },
    {
      "cell_type": "markdown",
      "source": [
        "PRACTICAL QUESTIONS:\n"
      ],
      "metadata": {
        "id": "td7lZlq_7ZDO"
      }
    },
    {
      "cell_type": "code",
      "source": [
        "#Q1)Write a code to create a string with your name and print it.\n",
        "string = \"Chhavi\"\n",
        "string"
      ],
      "metadata": {
        "colab": {
          "base_uri": "https://localhost:8080/",
          "height": 36
        },
        "id": "UUsIL-6Z7ddj",
        "outputId": "5bdb1796-3208-4d2f-e154-9cc7d29e2313"
      },
      "execution_count": null,
      "outputs": [
        {
          "output_type": "execute_result",
          "data": {
            "text/plain": [
              "'Chhavi'"
            ],
            "application/vnd.google.colaboratory.intrinsic+json": {
              "type": "string"
            }
          },
          "metadata": {},
          "execution_count": 1
        }
      ]
    },
    {
      "cell_type": "code",
      "source": [
        "#Q2)Write a code to find the length of the string \"Hello World\".\n",
        "string = \"Hello World\"\n",
        "len(string)"
      ],
      "metadata": {
        "colab": {
          "base_uri": "https://localhost:8080/"
        },
        "id": "uOfBg3CQ7qnm",
        "outputId": "953af991-a5f9-4497-9914-89e21c41ecfc"
      },
      "execution_count": null,
      "outputs": [
        {
          "output_type": "execute_result",
          "data": {
            "text/plain": [
              "11"
            ]
          },
          "metadata": {},
          "execution_count": 2
        }
      ]
    },
    {
      "cell_type": "code",
      "source": [
        "#Q3)Write a code to slice the first 3 characters from the string \"Python Programming\".\n",
        "a = \"Python Programming\"\n",
        "a[0:3]"
      ],
      "metadata": {
        "colab": {
          "base_uri": "https://localhost:8080/",
          "height": 36
        },
        "id": "YhwDQ_YJ7zmO",
        "outputId": "1a1b7d5a-3eaa-4ed2-9b24-4a7a94af7b7d"
      },
      "execution_count": null,
      "outputs": [
        {
          "output_type": "execute_result",
          "data": {
            "text/plain": [
              "'Pyt'"
            ],
            "application/vnd.google.colaboratory.intrinsic+json": {
              "type": "string"
            }
          },
          "metadata": {},
          "execution_count": 4
        }
      ]
    },
    {
      "cell_type": "code",
      "source": [
        "#Q4)Write a code to convert the string \"hello\" to uppercase.\n",
        "string = \"hello\"\n",
        "string.title()"
      ],
      "metadata": {
        "colab": {
          "base_uri": "https://localhost:8080/",
          "height": 36
        },
        "id": "7XP6cUhH8O1E",
        "outputId": "28419f33-eb29-45d2-850b-83db3208029b"
      },
      "execution_count": null,
      "outputs": [
        {
          "output_type": "execute_result",
          "data": {
            "text/plain": [
              "'Hello'"
            ],
            "application/vnd.google.colaboratory.intrinsic+json": {
              "type": "string"
            }
          },
          "metadata": {},
          "execution_count": 8
        }
      ]
    },
    {
      "cell_type": "code",
      "source": [
        "#Q5)Write a code to replace the word \"apple\" with \"orange\" in the string \"I like apple\".\n",
        "a = (\"I like apple.\")\n",
        "a.replace(\"apple\",\"orange\")"
      ],
      "metadata": {
        "colab": {
          "base_uri": "https://localhost:8080/",
          "height": 36
        },
        "id": "O8Hz0r9z8jjm",
        "outputId": "09cb7d76-62ea-4625-bf31-56a48bd1526f"
      },
      "execution_count": null,
      "outputs": [
        {
          "output_type": "execute_result",
          "data": {
            "text/plain": [
              "'I like orange.'"
            ],
            "application/vnd.google.colaboratory.intrinsic+json": {
              "type": "string"
            }
          },
          "metadata": {},
          "execution_count": 5
        }
      ]
    },
    {
      "cell_type": "code",
      "source": [
        "#Q6)Write a code to create a list with numbers 1 to 5 and print it\n",
        "for l in range(0,6):\n",
        "  print(l)"
      ],
      "metadata": {
        "colab": {
          "base_uri": "https://localhost:8080/"
        },
        "id": "aByFZpqiR9lI",
        "outputId": "8b7dd400-5ca6-4dcf-f267-bce46d2fc532"
      },
      "execution_count": null,
      "outputs": [
        {
          "output_type": "stream",
          "name": "stdout",
          "text": [
            "0\n",
            "1\n",
            "2\n",
            "3\n",
            "4\n",
            "5\n"
          ]
        }
      ]
    },
    {
      "cell_type": "code",
      "source": [
        "#Q7)Write a code to append the number 10 to the list [1, 2, 3, 4].\n",
        "l=[1,2,3,4]\n",
        "l.append(10)\n",
        "print(l)"
      ],
      "metadata": {
        "colab": {
          "base_uri": "https://localhost:8080/"
        },
        "id": "r-IIxNiAHg6O",
        "outputId": "b881660b-3081-4f02-de9a-4b811269a0e8"
      },
      "execution_count": null,
      "outputs": [
        {
          "output_type": "stream",
          "name": "stdout",
          "text": [
            "[1, 2, 3, 4, 10]\n"
          ]
        }
      ]
    },
    {
      "cell_type": "code",
      "source": [
        "#Q8) Write a code to remove the number 3 from the list [1, 2, 3, 4, 5].\n",
        "l=[1,2,3,4,5]\n",
        "l.remove(3)\n",
        "print(l)"
      ],
      "metadata": {
        "colab": {
          "base_uri": "https://localhost:8080/"
        },
        "id": "zcmkDVqAHytR",
        "outputId": "df12ceb3-e84c-42b3-e200-39a82abf0341"
      },
      "execution_count": null,
      "outputs": [
        {
          "output_type": "stream",
          "name": "stdout",
          "text": [
            "[1, 2, 4, 5]\n"
          ]
        }
      ]
    },
    {
      "cell_type": "code",
      "source": [
        "#Q9)Write a code to access the second element in the list ['a', 'b', 'c', 'd'].\n",
        "l=['a', 'b', 'c', 'd']\n",
        "l[1]"
      ],
      "metadata": {
        "colab": {
          "base_uri": "https://localhost:8080/",
          "height": 36
        },
        "id": "T_Wy3LOCIC2-",
        "outputId": "4670aac9-0f5e-4836-b167-f3b118453a8f"
      },
      "execution_count": null,
      "outputs": [
        {
          "output_type": "execute_result",
          "data": {
            "text/plain": [
              "'b'"
            ],
            "application/vnd.google.colaboratory.intrinsic+json": {
              "type": "string"
            }
          },
          "metadata": {},
          "execution_count": 7
        }
      ]
    },
    {
      "cell_type": "code",
      "source": [
        "#Q10)Write a code to reverse the list [10, 20, 30, 40, 50].\n",
        "l=[10,20,30,40,50]\n",
        "l[::-1]"
      ],
      "metadata": {
        "colab": {
          "base_uri": "https://localhost:8080/"
        },
        "id": "aYFCtCazIUXu",
        "outputId": "fcb54caa-1e67-488d-ead1-8dd84057e1be"
      },
      "execution_count": null,
      "outputs": [
        {
          "output_type": "execute_result",
          "data": {
            "text/plain": [
              "[50, 40, 30, 20, 10]"
            ]
          },
          "metadata": {},
          "execution_count": 10
        }
      ]
    },
    {
      "cell_type": "code",
      "source": [
        "#Q11)Write a code to create a tuple with the elements 100, 200, 300 and print it.\n",
        "a=(100,200,300)\n",
        "print(a)"
      ],
      "metadata": {
        "colab": {
          "base_uri": "https://localhost:8080/"
        },
        "id": "FwlLjjLlJAEj",
        "outputId": "d07b92a9-499c-46b6-ccb2-8d4796c14a3e"
      },
      "execution_count": null,
      "outputs": [
        {
          "output_type": "stream",
          "name": "stdout",
          "text": [
            "(100, 200, 300)\n"
          ]
        }
      ]
    },
    {
      "cell_type": "code",
      "source": [
        "#Q12) Write a code to access the second-to-last element of the tuple ('red', 'green', 'blue', 'yellow')\n",
        "a = ('red', 'green', 'blue', 'yellow')\n",
        "a[-2]\n"
      ],
      "metadata": {
        "colab": {
          "base_uri": "https://localhost:8080/",
          "height": 36
        },
        "id": "nC-56OlgJOpB",
        "outputId": "b33f25fd-cd9f-4108-d993-054cdcce7df4"
      },
      "execution_count": null,
      "outputs": [
        {
          "output_type": "execute_result",
          "data": {
            "text/plain": [
              "'blue'"
            ],
            "application/vnd.google.colaboratory.intrinsic+json": {
              "type": "string"
            }
          },
          "metadata": {},
          "execution_count": 13
        }
      ]
    },
    {
      "cell_type": "code",
      "source": [
        "#Q13)Write a code to find the minimum number in the tuple (10, 20, 5, 15).\n",
        "a=(10, 20, 5, 15)\n",
        "minimum_number= min(a)\n",
        "print(minimum_number)"
      ],
      "metadata": {
        "colab": {
          "base_uri": "https://localhost:8080/"
        },
        "id": "U76SPcqwJ2f7",
        "outputId": "43c5cda9-077f-471e-c1d6-f0231e95bfe0"
      },
      "execution_count": null,
      "outputs": [
        {
          "output_type": "stream",
          "name": "stdout",
          "text": [
            "5\n"
          ]
        }
      ]
    },
    {
      "cell_type": "code",
      "source": [
        "#Q14)Write a code to find the index of the element \"cat\" in the tuple ('dog', 'cat', 'rabbit').\n",
        "a = ('dog', 'cat', 'rabbit')\n",
        "a[1]"
      ],
      "metadata": {
        "colab": {
          "base_uri": "https://localhost:8080/",
          "height": 36
        },
        "id": "lMv0WZHDL4E2",
        "outputId": "d7bf1ac2-f973-4f0d-c1d8-b4c893cef949"
      },
      "execution_count": null,
      "outputs": [
        {
          "output_type": "execute_result",
          "data": {
            "text/plain": [
              "'cat'"
            ],
            "application/vnd.google.colaboratory.intrinsic+json": {
              "type": "string"
            }
          },
          "metadata": {},
          "execution_count": 16
        }
      ]
    },
    {
      "cell_type": "code",
      "source": [
        "#Q15)Write a code to create a tuple containing three different fruits and check if \"kiwi\" is in it.\n",
        "a = [\"banana\",\"kiwi\",\"oranges\"]\n",
        "if \"kiwi\" in a:\n",
        "  print(\"Kiwi is there in the list\")\n",
        "else:\n",
        "  print(\"Kiwi is not present in the list\")\n"
      ],
      "metadata": {
        "colab": {
          "base_uri": "https://localhost:8080/"
        },
        "id": "Mq3SJHiYMGRe",
        "outputId": "ef4fd6b7-460c-4ed2-9e5d-98d2db1e7196"
      },
      "execution_count": null,
      "outputs": [
        {
          "output_type": "stream",
          "name": "stdout",
          "text": [
            "Kiwi is there in the list\n"
          ]
        }
      ]
    },
    {
      "cell_type": "code",
      "source": [
        "#Q16)Write a code to create a set with the elements 'a', 'b', 'c' and print it.\n",
        "a = ('a', 'b', 'c')\n",
        "a"
      ],
      "metadata": {
        "colab": {
          "base_uri": "https://localhost:8080/"
        },
        "id": "ZkBJ6k5nMxsH",
        "outputId": "ae837994-d4c1-45d1-de1a-29354663a87c"
      },
      "execution_count": null,
      "outputs": [
        {
          "output_type": "execute_result",
          "data": {
            "text/plain": [
              "('a', 'b', 'c')"
            ]
          },
          "metadata": {},
          "execution_count": 19
        }
      ]
    },
    {
      "cell_type": "code",
      "source": [
        "#Q17)Write a code to clear all elements from the set {1, 2, 3, 4, 5}.\n",
        "a = {1, 2, 3, 4, 5}\n",
        "a.clear()"
      ],
      "metadata": {
        "id": "tC488bfHNilj"
      },
      "execution_count": null,
      "outputs": []
    },
    {
      "cell_type": "code",
      "source": [
        "#Q18) Write a code to remove the element 4 from the set {1, 2, 3, 4}.\n",
        "a = [1, 2, 3, 4]\n",
        "a.remove(4)\n",
        "print(a)"
      ],
      "metadata": {
        "colab": {
          "base_uri": "https://localhost:8080/"
        },
        "id": "xk3BLmVoObvC",
        "outputId": "67502989-6b1e-436b-ac7e-91781339eaf2"
      },
      "execution_count": null,
      "outputs": [
        {
          "output_type": "stream",
          "name": "stdout",
          "text": [
            "[1, 2, 3]\n"
          ]
        }
      ]
    },
    {
      "cell_type": "code",
      "source": [
        "#Q19)Write a code to find the union of two sets {1, 2, 3} and {3, 4, 5}.\n",
        "a = {1,2,3}\n",
        "b = {3,4,5}\n",
        "c = a.union(b)\n",
        "print(c)"
      ],
      "metadata": {
        "colab": {
          "base_uri": "https://localhost:8080/"
        },
        "id": "cXKToJvEPAvX",
        "outputId": "3aac56ce-f535-4966-96b6-11bd877d28dc"
      },
      "execution_count": null,
      "outputs": [
        {
          "output_type": "stream",
          "name": "stdout",
          "text": [
            "{1, 2, 3, 4, 5}\n"
          ]
        }
      ]
    },
    {
      "cell_type": "code",
      "source": [
        "#Q20) Write a code to find the intersection of two sets {1, 2, 3} and {2, 3, 4}.\n",
        "a = {1 , 2, 3}\n",
        "b = {2 , 3, 4}\n",
        "c = a.intersection(b)\n",
        "print(c)"
      ],
      "metadata": {
        "colab": {
          "base_uri": "https://localhost:8080/"
        },
        "id": "2gyjFZtFOt18",
        "outputId": "64a8665d-b5de-4db0-c845-6f7307230297"
      },
      "execution_count": null,
      "outputs": [
        {
          "output_type": "stream",
          "name": "stdout",
          "text": [
            "{2, 3}\n"
          ]
        }
      ]
    },
    {
      "cell_type": "code",
      "source": [
        "#Q21)Write a code to create a dictionary with the keys \"name\", \"age\", and \"city\", and print it.\n",
        "a = {\"name\":\"Chhavi\" , \"age\":\"15+\" , \"city\":\"Kolkata\"}\n",
        "print(a)"
      ],
      "metadata": {
        "colab": {
          "base_uri": "https://localhost:8080/"
        },
        "id": "fLRi30VaQGMo",
        "outputId": "95367064-ec4d-44a5-8828-6b1692a5b763"
      },
      "execution_count": null,
      "outputs": [
        {
          "output_type": "stream",
          "name": "stdout",
          "text": [
            "{'name': 'Chhavi', 'age': '15+', 'city': 'Kolkata'}\n"
          ]
        }
      ]
    },
    {
      "cell_type": "code",
      "source": [
        "#Q22)Write a code to add a new key-value pair \"country\": \"USA\" to the dictionary {'name': 'John', 'age': 25}.\n",
        "a = {'name': 'John', 'age': 25 , \"country\":\"USA\"}\n",
        "print(a)"
      ],
      "metadata": {
        "colab": {
          "base_uri": "https://localhost:8080/"
        },
        "id": "o72yBVQgQl9X",
        "outputId": "8d28e19e-496b-45e3-e423-1455e707ffb7"
      },
      "execution_count": null,
      "outputs": [
        {
          "output_type": "stream",
          "name": "stdout",
          "text": [
            "{'name': 'John', 'age': 25, 'country': 'USA'}\n"
          ]
        }
      ]
    },
    {
      "cell_type": "code",
      "source": [
        " #Q23)Write a code to access the value associated with the key \"name\" in the dictionary {'name': 'Alice', 'age': 30}.\n",
        " a =  {'name':'Alice', 'age': 30}\n",
        " print(\"Name=\",a[\"name\"])"
      ],
      "metadata": {
        "colab": {
          "base_uri": "https://localhost:8080/"
        },
        "id": "kPz92f6mQ2xa",
        "outputId": "3576fb10-fdde-42ec-bd78-312729805cd3"
      },
      "execution_count": null,
      "outputs": [
        {
          "output_type": "stream",
          "name": "stdout",
          "text": [
            "Name= Alice\n"
          ]
        }
      ]
    },
    {
      "cell_type": "code",
      "source": [
        "#Q23) Write a code to remove the key \"age\" from the dictionary {'name': 'Bob', 'age': 22, 'city': 'New York'}.\n",
        "a = {'name': 'Bob', 'age': 22, 'city': 'New York'}\n",
        "del a[\"age\"]\n",
        "a"
      ],
      "metadata": {
        "colab": {
          "base_uri": "https://localhost:8080/"
        },
        "id": "gwwyEGLrRtBC",
        "outputId": "dfb25cc7-f603-4722-e125-a8f4795e76c8"
      },
      "execution_count": null,
      "outputs": [
        {
          "output_type": "execute_result",
          "data": {
            "text/plain": [
              "{'name': 'Bob', 'city': 'New York'}"
            ]
          },
          "metadata": {},
          "execution_count": 47
        }
      ]
    },
    {
      "cell_type": "code",
      "source": [
        "#Q24) Write a code to check if the key \"city\" exists in the dictionary {'name': 'Alice', 'city': 'Paris'}.\n",
        "a = {'name': 'Alice', 'city': 'Paris'}\n",
        "if \"city\" in a:\n",
        "  print(\"True\")\n",
        "else:\n",
        "  print(\"False\")"
      ],
      "metadata": {
        "colab": {
          "base_uri": "https://localhost:8080/"
        },
        "id": "p48Fb5aaSHlW",
        "outputId": "b318ea11-bcaf-436b-af4f-bca3e047aba5"
      },
      "execution_count": null,
      "outputs": [
        {
          "output_type": "stream",
          "name": "stdout",
          "text": [
            "True\n"
          ]
        }
      ]
    },
    {
      "cell_type": "code",
      "source": [
        "#Q25)Write a code to create a list, a tuple, and a dictionary, and print them all.\n",
        "a = [1,2,3,4]\n",
        "b=(1,2,3,4)\n",
        "c={\"1st number\":\"1\" , \"2nd number\":\"2\"}\n",
        "print(\"List\",a)\n",
        "print(\"Tuple\",b)\n",
        "print(\"Dictionary\",c)"
      ],
      "metadata": {
        "colab": {
          "base_uri": "https://localhost:8080/"
        },
        "id": "fpk8dtKJStfd",
        "outputId": "0f2448b7-0c44-4519-8d90-913f980af061"
      },
      "execution_count": null,
      "outputs": [
        {
          "output_type": "stream",
          "name": "stdout",
          "text": [
            "List [1, 2, 3, 4]\n",
            "Tuple (1, 2, 3, 4)\n",
            "Dictionary {'1st number': '1', '2nd number': '2'}\n"
          ]
        }
      ]
    },
    {
      "cell_type": "code",
      "source": [
        "#Q26)Write a code to create a list of 5 random numbers between 1 and 100, sort it in ascending order, and print the\n",
        "#result.(replaced)\n",
        "import random\n",
        "a = [1,24,56,7,32]\n",
        "b= sorted(a)\n",
        "print(\"The ascending order of the list is:\",b)"
      ],
      "metadata": {
        "colab": {
          "base_uri": "https://localhost:8080/"
        },
        "id": "xEu8a5wXTIgy",
        "outputId": "96fc6729-ad13-4c63-8c25-0392bf36d12b"
      },
      "execution_count": null,
      "outputs": [
        {
          "output_type": "stream",
          "name": "stdout",
          "text": [
            "The ascending order of the list is: [1, 7, 24, 32, 56]\n"
          ]
        }
      ]
    },
    {
      "cell_type": "code",
      "source": [
        "#Q27) Write a code to create a list with strings and print the element at the third index.\n",
        "a = ['banana','coke','shoulder','okay']\n",
        "a[2]"
      ],
      "metadata": {
        "colab": {
          "base_uri": "https://localhost:8080/",
          "height": 36
        },
        "id": "9thUptkwU0BO",
        "outputId": "d265334d-7989-4bbc-f0dc-57e904a0c6a6"
      },
      "execution_count": null,
      "outputs": [
        {
          "output_type": "execute_result",
          "data": {
            "text/plain": [
              "'shoulder'"
            ],
            "application/vnd.google.colaboratory.intrinsic+json": {
              "type": "string"
            }
          },
          "metadata": {},
          "execution_count": 56
        }
      ]
    },
    {
      "cell_type": "code",
      "source": [
        "#Q28) Write a code to combine two dictionaries into one and print the result.\n",
        "c={\"1st number\":\"1\" , \"2nd number\":\"2\"}\n",
        "a = {'name': 'Bob', 'age': 22, 'city': 'New York'}\n",
        "d = c|a\n",
        "print(d)"
      ],
      "metadata": {
        "colab": {
          "base_uri": "https://localhost:8080/"
        },
        "id": "ObKo3osmVEz0",
        "outputId": "9aea8796-8964-4b1b-e22d-f320081e564e"
      },
      "execution_count": null,
      "outputs": [
        {
          "output_type": "stream",
          "name": "stdout",
          "text": [
            "{'1st number': '1', '2nd number': '2', 'name': 'Bob', 'age': 22, 'city': 'New York'}\n"
          ]
        }
      ]
    },
    {
      "cell_type": "code",
      "source": [
        "#Q29)Write a code to combine two dictionaries into one and print the result.\n",
        "a= {'name': 'Bob', 'age': 22, 'city': 'New York'}\n",
        "b= {'mother':'Priya'}\n",
        "a.update(b)\n",
        "print(a)"
      ],
      "metadata": {
        "id": "fHPVENDZVdLU",
        "colab": {
          "base_uri": "https://localhost:8080/"
        },
        "outputId": "810eb03d-d10d-4c41-9405-2bf6e8564451"
      },
      "execution_count": 6,
      "outputs": [
        {
          "output_type": "stream",
          "name": "stdout",
          "text": [
            "{'name': 'Bob', 'age': 22, 'city': 'New York', 'mother': 'Priya'}\n"
          ]
        }
      ]
    },
    {
      "cell_type": "code",
      "source": [
        "#Q30) Write a code to convert a list of strings into a set.\n",
        "sring = ['ajay','bijay','lala','mala']\n",
        "sets = set(sring)\n",
        "print(sets)"
      ],
      "metadata": {
        "colab": {
          "base_uri": "https://localhost:8080/"
        },
        "id": "1jPs9ya1LsM5",
        "outputId": "1d8db5da-883d-4cf2-e268-f2f9b0e66239"
      },
      "execution_count": 7,
      "outputs": [
        {
          "output_type": "stream",
          "name": "stdout",
          "text": [
            "{'lala', 'bijay', 'ajay', 'mala'}\n"
          ]
        }
      ]
    }
  ]
}